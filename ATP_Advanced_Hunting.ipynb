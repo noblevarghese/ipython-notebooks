{
 "cells": [
  {
   "cell_type": "markdown",
   "metadata": {},
   "source": [
    "# Objective\n",
    "Use Windows Defender ATP 'Advanced Hunting' API to query raw/base events.\n",
    "\n",
    "Pre-requisites:\n",
    "- Azure TenandId\n",
    "- Azure AppId\n",
    "- Azure App Secret"
   ]
  },
  {
   "cell_type": "code",
   "execution_count": null,
   "metadata": {},
   "outputs": [],
   "source": [
    "import json\n",
    "import urllib.request\n",
    "import urllib.parse\n",
    "import pandas as pd\n",
    "from configparser import ConfigParser\n",
    "\n",
    "# pandas will auto detect size of the column and automatically hide some part of the data by replacing with three dots ...\n",
    "# Below parameters will show columns in full lenght.\n",
    "# Setting maximunm column number to 27. \n",
    "\n",
    "pd.set_option('display.max_colwidth', -1) \n",
    "pd.set_option('display.max_columns', 27)"
   ]
  },
  {
   "cell_type": "markdown",
   "metadata": {},
   "source": [
    "# Using ConfigParser to Store Information\n",
    "It's similar to reading a configuration file. I've saved ATP TenantId, AppId and AppSecret in a configuration file named 'atp.cnf'. You can directly paste this information in below cell for testing purposes."
   ]
  },
  {
   "cell_type": "code",
   "execution_count": null,
   "metadata": {},
   "outputs": [],
   "source": [
    "parser = ConfigParser()\n",
    "parser.read('/etc/jupyterhub/atp/atp.cnf')\n",
    "tenant_info = parser.get('atp_info', 'tenantId')\n",
    "app_info = parser.get('atp_info', 'appId')\n",
    "app_secret= parser.get('atp_info', 'appSecret')"
   ]
  },
  {
   "cell_type": "code",
   "execution_count": null,
   "metadata": {},
   "outputs": [],
   "source": [
    "url = \"https://login.windows.net/%s/oauth2/token\" % (tenant_info)\n",
    "resourceAppIdUri = 'https://api.securitycenter.windows.com'\n",
    "\n",
    "body = {\n",
    "    'resource' : resourceAppIdUri,\n",
    "    'client_id' : app_info,\n",
    "    'client_secret' : app_secret,\n",
    "    'grant_type' : 'client_credentials'\n",
    "}\n",
    "\n",
    "data = urllib.parse.urlencode(body).encode(\"utf-8\")\n",
    "req = urllib.request.Request(url, data)\n",
    "response = urllib.request.urlopen(req)\n",
    "jsonResponse = response.read()\n",
    "df = pd.io.json.loads(jsonResponse)\n",
    "token = df['access_token']\n"
   ]
  },
  {
   "cell_type": "markdown",
   "metadata": {},
   "source": [
    "# Advanced Hunting Query\n",
    "- Please mention your ATP advanced hunting query in below cell.\n",
    "- All the queries must be kept inside single quotes 'your_query'\n",
    "- You should know the table name in ATP before executing any query\n",
    "- Example: 'RegistryEvents | limit 20'\n",
    "\n",
    "- All the ATP tables has different schema\n",
    "- execute pd.DataFrame(schema) command to view schema of a given table"
   ]
  },
  {
   "cell_type": "code",
   "execution_count": null,
   "metadata": {},
   "outputs": [],
   "source": [
    "query = 'AlertEvents | limit 10' # Paste your own query here"
   ]
  },
  {
   "cell_type": "code",
   "execution_count": null,
   "metadata": {},
   "outputs": [],
   "source": [
    "adv_url = \"https://api.securitycenter.windows.com/api/advancedqueries/run\"\n",
    "headers = { \n",
    "    'Content-Type' : 'application/json',\n",
    "    'Accept' : 'application/json',\n",
    "    'Authorization' : \"Bearer \" + token\n",
    "}\n",
    "\n",
    "data = json.dumps({ 'Query' : query }).encode(\"utf-8\")\n",
    "\n",
    "req = urllib.request.Request(adv_url, data, headers)\n",
    "response = urllib.request.urlopen(req)\n",
    "jsonResponse = response.read()\n",
    "dfo = pd.io.json.loads(jsonResponse)\n",
    "schema = dfo['Schema']\n",
    "results = dfo['Results']"
   ]
  },
  {
   "cell_type": "code",
   "execution_count": null,
   "metadata": {},
   "outputs": [],
   "source": [
    "pd.DataFrame(results) # Print results in a DataFrame"
   ]
  },
  {
   "cell_type": "code",
   "execution_count": null,
   "metadata": {},
   "outputs": [],
   "source": [
    "pd.DataFrame(schema) # Print schema of the table"
   ]
  }
 ],
 "metadata": {
  "kernelspec": {
   "display_name": "Python 3",
   "language": "python",
   "name": "python3"
  },
  "language_info": {
   "codemirror_mode": {
    "name": "ipython",
    "version": 3
   },
   "file_extension": ".py",
   "mimetype": "text/x-python",
   "name": "python",
   "nbconvert_exporter": "python",
   "pygments_lexer": "ipython3",
   "version": "3.5.5"
  }
 },
 "nbformat": 4,
 "nbformat_minor": 2
}
